{
 "cells": [
  {
   "cell_type": "markdown",
   "id": "39a1c798",
   "metadata": {},
   "source": [
    "# ICE 1 - Using MongoDB in Julia"
   ]
  },
  {
   "cell_type": "markdown",
   "id": "2a5c33c7",
   "metadata": {},
   "source": [
    "**Author**: Nicolas Dussaillant"
   ]
  },
  {
   "cell_type": "markdown",
   "id": "b31f2873",
   "metadata": {},
   "source": [
    "## Preparation"
   ]
  },
  {
   "cell_type": "markdown",
   "id": "30fb97cc",
   "metadata": {},
   "source": [
    "For this code, the computer specifications were the following:\n",
    "- Processor: Apple Silicon M1\n",
    "- OS: MacOS 11.6 (Big Sur)\n",
    "\n",
    "Previously installed software used here for installations and usage:\n",
    "- [Homebrew](https://docs.brew.sh/)\n",
    "- [Anaconda](https://docs.anaconda.com/anaconda/install/mac-os/)\n",
    "\n",
    "### Installing and preparing Julia:\n",
    "\n",
    "1. **Download and install Julia:**\n",
    "    \n",
    "    For native operation of Julia it is necessary to install v1.7 which is not available through Homebrew, so download and install version 1.7.1 for Apple M-Series [here](https://julialang.org/downloads/) (experimental version).\n",
    "\n",
    "\n",
    "2. **Create a link to execute Julia from the Terminal:**\n",
    "    \n",
    "    Run the following link in the terminal:\n",
    "\n",
    "    `sudo ln -s /Applications/Julia-1.7.app/Contents/Resources/julia/bin/julia /usr/local/bin/julia`\n",
    "\n",
    "    (Make sure that directory `/usr/local/bin` exists or create it before running that command)\n",
    "\n",
    "\n",
    "3. **Download IJulia to use Jupyter Notebooks:**\n",
    "\n",
    "    Enter Julia typing `julia` in the Terminal. Then press `]`, type `add IJulia` and hit **enter**. After installation, hit **delete** and exit Julia (running `exit()` or pressing `ctrl + D`).\n",
    "    \n",
    "    After that, run Jupyter Notebook from Anaconda Navigator, and create a new Julia notebook.\n",
    "    \n",
    "    \n",
    "### Installing and preparing MongoDB\n",
    "\n",
    "For MongoDB we will use HomeBrew. All the following is run in the **Terminal**.\n",
    "\n",
    "1. **Add third-party repositories for MongoDB in Brew.** Run:\n",
    "\n",
    "    `brew tap mongodb/brew`\n",
    "    \n",
    "    \n",
    "2. **Install mongodb-community running**:\n",
    "\n",
    "    `brew install mongodb-community`\n",
    "    \n",
    "    \n",
    "3. **To start and stop mongodb, use the following commands (although we will run them in this Notebook as well)**:\n",
    "\n",
    "    `brew services start mongodb-community`\n",
    "\n",
    "    `brew services stop mongodb-community`\n",
    "    \n",
    "    \n",
    "**Note**: To edit configurations of MongoDB, edit the following file: `/opt/homebrew/etc/mongod.conf`. By default, MongoDB will run on 127.0.0.1:27017\n",
    "\n",
    "\n",
    "### Install MongoDB package for Julia\n",
    "\n",
    "We will be using [this package](https://juliapackages.com/p/mongoc) available to use MongoDB in Julia. To install it, do the same as for IJulia, but instead of `add IJulia`, type `add Mongoc`."
   ]
  },
  {
   "cell_type": "markdown",
   "id": "39ca0831",
   "metadata": {},
   "source": [
    "***"
   ]
  },
  {
   "cell_type": "markdown",
   "id": "e032d798",
   "metadata": {},
   "source": [
    "## Running Julia + MongoDB"
   ]
  },
  {
   "cell_type": "markdown",
   "id": "8617adf2",
   "metadata": {},
   "source": [
    "#### Try Julia:"
   ]
  },
  {
   "cell_type": "code",
   "execution_count": 1,
   "id": "4af3f41f",
   "metadata": {},
   "outputs": [
    {
     "name": "stdout",
     "output_type": "stream",
     "text": [
      "Hello, world!\n"
     ]
    }
   ],
   "source": [
    "println(\"Hello, world!\")"
   ]
  },
  {
   "cell_type": "markdown",
   "id": "acbcb00b",
   "metadata": {},
   "source": [
    "Run commands in the Terminal using Julia:"
   ]
  },
  {
   "cell_type": "code",
   "execution_count": 2,
   "id": "72a8fb00",
   "metadata": {},
   "outputs": [
    {
     "name": "stdout",
     "output_type": "stream",
     "text": [
      "Hello, world from the Shell!\n"
     ]
    },
    {
     "data": {
      "text/plain": [
       "Process(`\u001b[4mecho\u001b[24m \u001b[4m'Hello, world from the Shell!'\u001b[24m`, ProcessExited(0))"
      ]
     },
     "execution_count": 2,
     "metadata": {},
     "output_type": "execute_result"
    }
   ],
   "source": [
    "run(`echo \"Hello, world from the Shell!\"`)"
   ]
  },
  {
   "cell_type": "markdown",
   "id": "7c6ea9ef",
   "metadata": {},
   "source": [
    "#### Start MongoDB\n",
    "(if you start MongoDB, don't forget to stop it when you're done, otherwise it will keep running locally in your computer)"
   ]
  },
  {
   "cell_type": "code",
   "execution_count": 3,
   "id": "7a950017",
   "metadata": {},
   "outputs": [
    {
     "name": "stdout",
     "output_type": "stream",
     "text": [
      "==> Successfully started `mongodb-community` (label: homebrew.mxcl.mongodb-community)\n"
     ]
    },
    {
     "data": {
      "text/plain": [
       "Process(`\u001b[4mbrew\u001b[24m \u001b[4mservices\u001b[24m \u001b[4mstart\u001b[24m \u001b[4mmongodb/brew/mongodb-community\u001b[24m`, ProcessExited(0))"
      ]
     },
     "execution_count": 3,
     "metadata": {},
     "output_type": "execute_result"
    }
   ],
   "source": [
    "run(`brew services start mongodb/brew/mongodb-community`)"
   ]
  },
  {
   "cell_type": "markdown",
   "id": "f382f9e4",
   "metadata": {},
   "source": [
    "#### Connect Julia to MongoDB"
   ]
  },
  {
   "cell_type": "code",
   "execution_count": 4,
   "id": "6fc82862",
   "metadata": {},
   "outputs": [
    {
     "data": {
      "text/plain": [
       "Client(URI(\"mongodb://localhost:27017\"))"
      ]
     },
     "execution_count": 4,
     "metadata": {},
     "output_type": "execute_result"
    }
   ],
   "source": [
    "import Mongoc\n",
    "mongo_client = Mongoc.Client(\"localhost\", 27017)"
   ]
  },
  {
   "cell_type": "markdown",
   "id": "98cea8b6",
   "metadata": {},
   "source": [
    "**Create (or open) the new database \"testing-db\"**"
   ]
  },
  {
   "cell_type": "code",
   "execution_count": 5,
   "id": "dbd67e1d",
   "metadata": {},
   "outputs": [
    {
     "data": {
      "text/plain": [
       "Database(Client(URI(\"mongodb://localhost:27017\")), \"testing-db\")"
      ]
     },
     "execution_count": 5,
     "metadata": {},
     "output_type": "execute_result"
    }
   ],
   "source": [
    "db = mongo_client[\"testing-db\"]"
   ]
  },
  {
   "cell_type": "markdown",
   "id": "d9351ddf",
   "metadata": {},
   "source": [
    "**Populate database with a collection of persons and perform CRUD operations**"
   ]
  },
  {
   "cell_type": "code",
   "execution_count": 6,
   "id": "b929f0f3",
   "metadata": {},
   "outputs": [
    {
     "data": {
      "text/plain": [
       "Collection(Database(Client(URI(\"mongodb://localhost:27017\")), \"testing-db\"), \"persons\")"
      ]
     },
     "execution_count": 6,
     "metadata": {},
     "output_type": "execute_result"
    }
   ],
   "source": [
    "# Create collection\n",
    "persons = db[\"persons\"]"
   ]
  },
  {
   "cell_type": "markdown",
   "id": "2d91ca74",
   "metadata": {},
   "source": [
    "**INSERT (C)**"
   ]
  },
  {
   "cell_type": "code",
   "execution_count": 7,
   "id": "715f67fb",
   "metadata": {},
   "outputs": [
    {
     "data": {
      "text/plain": [
       "Mongoc.BulkOperationResult{Union{Nothing, Mongoc.BSONObjectId}}(BSON(\"{ \"nInserted\" : 2, \"nMatched\" : 0, \"nModified\" : 0, \"nRemoved\" : 0, \"nUpserted\" : 0, \"writeErrors\" : [  ] }\"), 0x00000001, Union{Nothing, Mongoc.BSONObjectId}[BSONObjectId(\"61fce3ec0a9e54f3ff3e9923\"), BSONObjectId(\"61fce3ec0a9e54f3ff3e9924\")])"
      ]
     },
     "execution_count": 7,
     "metadata": {},
     "output_type": "execute_result"
    }
   ],
   "source": [
    "# Create document\n",
    "person_1 = Mongoc.BSON()\n",
    "\n",
    "# Fill data in the document\n",
    "person_1[\"first-name\"] = \"Ariana\"\n",
    "person_1[\"last-name\"] = \"Grande\"\n",
    "person_1[\"occupation\"] = \"artist\"\n",
    "person_1[\"gender\"] = \"female\"\n",
    "\n",
    "# Insert into collection\n",
    "push!(persons, person_1)\n",
    "\n",
    "# Repeat for persons 2 and 3 with different methods\n",
    "# Same line Dict\n",
    "person_2 = Mongoc.BSON( \"first-name\" => \"Elon\",\n",
    "                        \"last-name\"  => \"Musk\",\n",
    "                        \"occupation\" => \"CEO\",\n",
    "                        \"gender\"     => \"male\")\n",
    "\n",
    "# With JSON string\n",
    "person_3 = Mongoc.BSON(\"\"\"\n",
    "                        {\n",
    "                        \"first-name\": \"Will\",\n",
    "                        \"last-name\" : \"Smith\",\n",
    "                        \"occupation\": \"actor\",\n",
    "                        \"gender\"    : \"male\"\n",
    "                        }\n",
    "                        \"\"\")\n",
    "\n",
    "# Add persons 2 and 3 together\n",
    "append!(persons, [ person_2, person_3 ])\n"
   ]
  },
  {
   "cell_type": "code",
   "execution_count": 8,
   "id": "bd1f945e",
   "metadata": {},
   "outputs": [
    {
     "name": "stdout",
     "output_type": "stream",
     "text": [
      "Ariana Grande's work is artist\n",
      "Elon Musk's work is CEO\n",
      "Will Smith's work is actor\n"
     ]
    }
   ],
   "source": [
    "# Print what is in the collection\n",
    "for person in persons\n",
    "    println(\"$(person[\"first-name\"]) $(person[\"last-name\"])'s work is $(person[\"occupation\"])\")\n",
    "end"
   ]
  },
  {
   "cell_type": "markdown",
   "id": "62ff8608",
   "metadata": {},
   "source": [
    "**SELECT (R)**"
   ]
  },
  {
   "cell_type": "code",
   "execution_count": 9,
   "id": "dcad0cf8",
   "metadata": {
    "scrolled": true
   },
   "outputs": [
    {
     "name": "stdout",
     "output_type": "stream",
     "text": [
      "BSON(\"{ \"_id\" : { \"$oid\" : \"61fce3ec0a9e54f3ff3e9923\" }, \"first-name\" : \"Elon\", \"last-name\" : \"Musk\", \"occupation\" : \"CEO\", \"gender\" : \"male\" }\")\n"
     ]
    }
   ],
   "source": [
    "# Select One\n",
    "selector = Mongoc.BSON(\"gender\" => \"male\")\n",
    "p = Mongoc.find_one(persons, selector)\n",
    "println(p)"
   ]
  },
  {
   "cell_type": "code",
   "execution_count": 10,
   "id": "76f303e7",
   "metadata": {},
   "outputs": [
    {
     "name": "stdout",
     "output_type": "stream",
     "text": [
      "BSON(\"{ \"_id\" : { \"$oid\" : \"61fce3ec0a9e54f3ff3e9923\" }, \"first-name\" : \"Elon\", \"last-name\" : \"Musk\", \"occupation\" : \"CEO\", \"gender\" : \"male\" }\")\n",
      "BSON(\"{ \"_id\" : { \"$oid\" : \"61fce3ec0a9e54f3ff3e9924\" }, \"first-name\" : \"Will\", \"last-name\" : \"Smith\", \"occupation\" : \"actor\", \"gender\" : \"male\" }\")\n"
     ]
    }
   ],
   "source": [
    "# Select many\n",
    "selector = Mongoc.BSON(\"gender\" => \"male\")\n",
    "pp = Mongoc.find(persons, selector)\n",
    "for i in pp\n",
    "    println(i)\n",
    "end"
   ]
  },
  {
   "cell_type": "markdown",
   "id": "7d80c9a9",
   "metadata": {},
   "source": [
    "**UPDATE (U)**"
   ]
  },
  {
   "cell_type": "code",
   "execution_count": 11,
   "id": "2ae3b448",
   "metadata": {},
   "outputs": [
    {
     "data": {
      "text/plain": [
       "Mongoc.BSON with 3 entries:\n",
       "  \"modifiedCount\" => 2\n",
       "  \"matchedCount\"  => 2\n",
       "  \"upsertedCount\" => 0"
      ]
     },
     "execution_count": 11,
     "metadata": {},
     "output_type": "execute_result"
    }
   ],
   "source": [
    "selector = Mongoc.BSON(\"gender\" => \"male\")\n",
    "update = Mongoc.BSON(\"\\$set\" => Dict(\"language\" => \"en-us\"))\n",
    "Mongoc.update_many(persons, selector, update)"
   ]
  },
  {
   "cell_type": "code",
   "execution_count": 12,
   "id": "1ae58bac",
   "metadata": {},
   "outputs": [
    {
     "name": "stdout",
     "output_type": "stream",
     "text": [
      "BSON(\"{ \"_id\" : { \"$oid\" : \"61fce3eb0a9e54f3ff3e9922\" }, \"first-name\" : \"Ariana\", \"last-name\" : \"Grande\", \"occupation\" : \"artist\", \"gender\" : \"female\" }\")\n",
      "BSON(\"{ \"_id\" : { \"$oid\" : \"61fce3ec0a9e54f3ff3e9923\" }, \"first-name\" : \"Elon\", \"last-name\" : \"Musk\", \"occupation\" : \"CEO\", \"gender\" : \"male\", \"language\" : \"en-us\" }\")\n",
      "BSON(\"{ \"_id\" : { \"$oid\" : \"61fce3ec0a9e54f3ff3e9924\" }, \"first-name\" : \"Will\", \"last-name\" : \"Smith\", \"occupation\" : \"actor\", \"gender\" : \"male\", \"language\" : \"en-us\" }\")\n"
     ]
    }
   ],
   "source": [
    "for person in persons\n",
    "    println(person)\n",
    "end"
   ]
  },
  {
   "cell_type": "markdown",
   "id": "bfa33b82",
   "metadata": {},
   "source": [
    "**DELETE (D)**"
   ]
  },
  {
   "cell_type": "code",
   "execution_count": 13,
   "id": "00138d3f",
   "metadata": {},
   "outputs": [
    {
     "data": {
      "text/plain": [
       "Mongoc.BSON with 1 entry:\n",
       "  \"deletedCount\" => 1"
      ]
     },
     "execution_count": 13,
     "metadata": {},
     "output_type": "execute_result"
    }
   ],
   "source": [
    "selector = Mongoc.BSON(\"first-name\" => \"Elon\")\n",
    "Mongoc.delete_many(persons, selector)"
   ]
  },
  {
   "cell_type": "code",
   "execution_count": 14,
   "id": "415c3df5",
   "metadata": {},
   "outputs": [
    {
     "name": "stdout",
     "output_type": "stream",
     "text": [
      "BSON(\"{ \"_id\" : { \"$oid\" : \"61fce3eb0a9e54f3ff3e9922\" }, \"first-name\" : \"Ariana\", \"last-name\" : \"Grande\", \"occupation\" : \"artist\", \"gender\" : \"female\" }\")\n",
      "BSON(\"{ \"_id\" : { \"$oid\" : \"61fce3ec0a9e54f3ff3e9924\" }, \"first-name\" : \"Will\", \"last-name\" : \"Smith\", \"occupation\" : \"actor\", \"gender\" : \"male\", \"language\" : \"en-us\" }\")\n"
     ]
    }
   ],
   "source": [
    "for person in persons\n",
    "    println(person)\n",
    "end"
   ]
  },
  {
   "cell_type": "code",
   "execution_count": 15,
   "id": "9fc8f7eb",
   "metadata": {},
   "outputs": [
    {
     "data": {
      "text/plain": [
       "Mongoc.BSON with 1 entry:\n",
       "  \"deletedCount\" => 2"
      ]
     },
     "execution_count": 15,
     "metadata": {},
     "output_type": "execute_result"
    }
   ],
   "source": [
    "# Delete all\n",
    "selector = Mongoc.BSON()\n",
    "Mongoc.delete_many(persons, selector)"
   ]
  },
  {
   "cell_type": "code",
   "execution_count": 16,
   "id": "8ba0530c",
   "metadata": {},
   "outputs": [
    {
     "data": {
      "text/plain": [
       "0"
      ]
     },
     "execution_count": 16,
     "metadata": {},
     "output_type": "execute_result"
    }
   ],
   "source": [
    "length(persons)"
   ]
  },
  {
   "cell_type": "markdown",
   "id": "22c876bf",
   "metadata": {},
   "source": [
    "***"
   ]
  },
  {
   "cell_type": "markdown",
   "id": "03d73417",
   "metadata": {},
   "source": [
    "## Ending: Delete and close everything"
   ]
  },
  {
   "cell_type": "code",
   "execution_count": 17,
   "id": "8247acd9",
   "metadata": {},
   "outputs": [
    {
     "name": "stdout",
     "output_type": "stream",
     "text": [
      "Stopping `mongodb-community`... (might take a while)\n",
      "==> Successfully stopped `mongodb-community` (label: homebrew.mxcl.mongodb-community)\n"
     ]
    },
    {
     "data": {
      "text/plain": [
       "Process(`\u001b[4mbrew\u001b[24m \u001b[4mservices\u001b[24m \u001b[4mstop\u001b[24m \u001b[4mmongodb/brew/mongodb-community\u001b[24m`, ProcessExited(0))"
      ]
     },
     "execution_count": 17,
     "metadata": {},
     "output_type": "execute_result"
    }
   ],
   "source": [
    "# Delete collection\n",
    "Mongoc.drop(persons)\n",
    "\n",
    "# Delete database\n",
    "Mongoc.drop(db)\n",
    "\n",
    "# Finish MongoDB\n",
    "run(`brew services stop mongodb/brew/mongodb-community`)"
   ]
  },
  {
   "cell_type": "markdown",
   "id": "5aa1b2e6",
   "metadata": {},
   "source": [
    "***"
   ]
  },
  {
   "cell_type": "markdown",
   "id": "6bb16d84",
   "metadata": {},
   "source": [
    "## References:\n",
    "\n",
    "- [Installing MongoDB in MacOS](https://docs.mongodb.com/manual/tutorial/install-mongodb-on-os-x/)\n",
    "- [Mongoc package for Julia](https://juliapackages.com/p/mongoc)\n",
    "- [Mongoc.jl documentation](https://felipenoris.github.io/Mongoc.jl/stable/tutorial/)\n",
    "- [References for Mongo-Shell](https://docs.mongodb.com/manual/reference/mongo-shell/) (not mentioned in this doc, but useful to check things working)\n",
    "- [Run commands with Julia](https://docs.julialang.org/en/v1/manual/running-external-programs/#Running-External-Programs)"
   ]
  }
 ],
 "metadata": {
  "kernelspec": {
   "display_name": "Julia 1.7.1",
   "language": "julia",
   "name": "julia-1.7"
  },
  "language_info": {
   "file_extension": ".jl",
   "mimetype": "application/julia",
   "name": "julia",
   "version": "1.7.1"
  }
 },
 "nbformat": 4,
 "nbformat_minor": 5
}
